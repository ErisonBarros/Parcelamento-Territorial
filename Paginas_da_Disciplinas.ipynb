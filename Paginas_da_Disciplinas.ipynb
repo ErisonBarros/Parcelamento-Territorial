{
  "nbformat": 4,
  "nbformat_minor": 0,
  "metadata": {
    "colab": {
      "name": "Paginas da Disciplinas.ipynb",
      "provenance": [],
      "authorship_tag": "ABX9TyPjYaS9y9v9ID6rN3Elli8q",
      "include_colab_link": true
    },
    "kernelspec": {
      "name": "python3",
      "display_name": "Python 3"
    }
  },
  "cells": [
    {
      "cell_type": "markdown",
      "metadata": {
        "id": "view-in-github",
        "colab_type": "text"
      },
      "source": [
        "<a href=\"https://colab.research.google.com/github/ErisonBarros/Parcelamento-Territorial/blob/master/Paginas_da_Disciplinas.ipynb\" target=\"_parent\"><img src=\"https://colab.research.google.com/assets/colab-badge.svg\" alt=\"Open In Colab\"/></a>"
      ]
    },
    {
      "cell_type": "markdown",
      "metadata": {
        "id": "F_Fvgv6GfIBH",
        "colab_type": "text"
      },
      "source": [
        "#Projeto de Parcelamento Territorial"
      ]
    },
    {
      "cell_type": "markdown",
      "metadata": {
        "id": "meHgWcN5frCH",
        "colab_type": "text"
      },
      "source": [
        "\n",
        "Segue a Lista\n",
        "*   Item 1\n",
        "*   Item 2\n",
        "\n"
      ]
    },
    {
      "cell_type": "markdown",
      "metadata": {
        "id": "B1V1Wh_6f2dY",
        "colab_type": "text"
      },
      "source": [
        ""
      ]
    }
  ]
}